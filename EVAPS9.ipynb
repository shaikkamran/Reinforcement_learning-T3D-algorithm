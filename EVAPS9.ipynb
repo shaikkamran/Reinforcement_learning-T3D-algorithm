{
  "nbformat": 4,
  "nbformat_minor": 0,
  "metadata": {
    "colab": {
      "name": "EVAPS9",
      "provenance": []
    },
    "kernelspec": {
      "name": "python3",
      "display_name": "Python 3"
    },
    "accelerator": "GPU"
  },
  "cells": [
    {
      "cell_type": "code",
      "metadata": {
        "id": "qx_ZCkCZpV8J",
        "colab_type": "code",
        "colab": {}
      },
      "source": [
        "import os\n",
        "import random\n",
        "import time\n",
        "import numpy as np\n",
        "import matplotlib.pyplot as plt\n",
        "import torch\n",
        "from collections import deque\n",
        "import torch.nn as nn\n",
        "import torch.nn.functional as F\n",
        "from torch.autograd import Variable"
      ],
      "execution_count": 0,
      "outputs": []
    },
    {
      "cell_type": "code",
      "metadata": {
        "id": "0F6XpUPrpxjh",
        "colab_type": "code",
        "colab": {}
      },
      "source": [
        "import gym\n",
        "from gym import wrappers\n",
        "import pybullet_envs\n"
      ],
      "execution_count": 0,
      "outputs": []
    },
    {
      "cell_type": "code",
      "metadata": {
        "id": "L4TP52_hqSc-",
        "colab_type": "code",
        "colab": {
          "base_uri": "https://localhost:8080/",
          "height": 122
        },
        "outputId": "5938779b-6a6c-4449-bd07-9f3c5d39722e"
      },
      "source": [
        "# !pip install pybullet"
      ],
      "execution_count": 14,
      "outputs": [
        {
          "output_type": "stream",
          "text": [
            "Collecting pybullet\n",
            "\u001b[?25l  Downloading https://files.pythonhosted.org/packages/d8/ac/a422ab8d1c57ab3f43e573b5a5f532e6afd348d81308fe66a1ecb691548e/pybullet-2.7.1-cp36-cp36m-manylinux1_x86_64.whl (95.0MB)\n",
            "\u001b[K     |████████████████████████████████| 95.0MB 47kB/s \n",
            "\u001b[?25hInstalling collected packages: pybullet\n",
            "Successfully installed pybullet-2.7.1\n"
          ],
          "name": "stdout"
        }
      ]
    },
    {
      "cell_type": "code",
      "metadata": {
        "id": "DZrjfDJSqIIh",
        "colab_type": "code",
        "colab": {}
      },
      "source": [
        "class ReplayBuffer(object):\n",
        "  def __init__(self,max_size=1e6):\n",
        "    self.storage=[]\n",
        "    self.max_size=max_size\n",
        "    self.ptr=0\n",
        "  \n",
        "  def add(self,transition):\n",
        "    if len(self.storage)==self.max_size:\n",
        "      self.storage[int(self.ptr)]=transition\n",
        "      self.ptr=self.ptr+1 % self.max_size \n",
        "    else:\n",
        "      self.storage.append(transition)\n",
        "  \n",
        "  def sample(self,batch_size):\n",
        "    ind=np.random.randint(0,len(self.storage),batch_size)\n",
        "    batch_data=np.array(self.sample(ind))\n",
        "    #batch_states,batch_next_states,batch_actions,batch_rewards,batch_dones\n",
        "    return batch_data[:,0],batch_data[:,1],batch_data[:,2],batch_data[:,3],batch_data[:,4]\n",
        "  "
      ],
      "execution_count": 0,
      "outputs": []
    },
    {
      "cell_type": "code",
      "metadata": {
        "id": "5gXwgxT31xKF",
        "colab_type": "code",
        "colab": {}
      },
      "source": [
        "class Actor(nn.Module):\n",
        "\n",
        "  def __init__(self,state_dims,action_dim,max_action):\n",
        "\n",
        "    super(Actor,self).__init__()\n",
        "    self.layer1=nn.Linear(state_dims,400)\n",
        "    self.layer2=nn.Linear(400,300)\n",
        "    self.layer3=nn.Linear(300,action_dim)\n",
        "    self.max_action=max_action\n",
        "\n",
        "  def forward(self,x):\n",
        "    x=F.relu(self.layer1(x))\n",
        "    x=F.relu(self.layer2(x))\n",
        "    return self.max_action*torch.tanh(self.layer3(x))\n",
        "\n",
        "  "
      ],
      "execution_count": 0,
      "outputs": []
    },
    {
      "cell_type": "code",
      "metadata": {
        "id": "CLcGDAjo3heb",
        "colab_type": "code",
        "colab": {}
      },
      "source": [
        "class Critic(nn.Module):\n",
        "  def __init__(self,state_dims,action_dim):\n",
        "\n",
        "    super(Critic,self).__init__()\n",
        "\n",
        "    self.layer1=nn.Linear(state_dims+action_dim,400)\n",
        "    self.layer2=nn.Linear(400,300)\n",
        "    self.layer3=nn.Linear(300,action_dim)\n",
        "\n",
        "    self.layer4=nn.Linear(state_dims+action_dim,400)\n",
        "    self.layer5=nn.Linear(400,300)\n",
        "    self.layer6=nn.Linear(300,action_dim)\n",
        "    \n",
        "  def forward(self,x,u):\n",
        "    xu=torch.cat([x,u],1)\n",
        "    #forward prop for critic1\n",
        "    x1=F.relu(self.layer1(xu))\n",
        "    x1=F.relu(self.layer2(x1))\n",
        "    x1=self.layer3(x1)\n",
        "\n",
        "    #forward prop for critic2\n",
        "    x2=F.relu(self.layer4(xu))\n",
        "    x2=F.relu(self.layer5(x2))\n",
        "    x2=self.layer6(x2)\n",
        "  \n",
        "    return x1,x2\n",
        "  \n",
        "\n",
        "  def Q1(self,x,u):\n",
        "    xu=torch.cat([x,u],1)\n",
        "    x1=F.relu(self.layer1(xu))\n",
        "    x1=F.relu(self.layer2(x1))\n",
        "    return self.layer3(x1)\n",
        "    "
      ],
      "execution_count": 0,
      "outputs": []
    },
    {
      "cell_type": "code",
      "metadata": {
        "id": "JfvxwE8L5My3",
        "colab_type": "code",
        "colab": {}
      },
      "source": [
        ""
      ],
      "execution_count": 0,
      "outputs": []
    },
    {
      "cell_type": "code",
      "metadata": {
        "id": "abX4xrEn5_dR",
        "colab_type": "code",
        "colab": {}
      },
      "source": [
        "device=torch.device(\"cuda\" if torch.cuda.is_available() else \"cpu\")"
      ],
      "execution_count": 0,
      "outputs": []
    },
    {
      "cell_type": "markdown",
      "metadata": {
        "id": "2qjrL2AjAqZQ",
        "colab_type": "text"
      },
      "source": [
        ""
      ]
    },
    {
      "cell_type": "code",
      "metadata": {
        "id": "vS37jMbv6QE5",
        "colab_type": "code",
        "colab": {
          "base_uri": "https://localhost:8080/",
          "height": 34
        },
        "outputId": "8ba8ee7e-1e92-4276-acdf-bfa750a8c39c"
      },
      "source": [
        "device"
      ],
      "execution_count": 21,
      "outputs": [
        {
          "output_type": "execute_result",
          "data": {
            "text/plain": [
              "device(type='cuda')"
            ]
          },
          "metadata": {
            "tags": []
          },
          "execution_count": 21
        }
      ]
    },
    {
      "cell_type": "code",
      "metadata": {
        "id": "UcDJ4E0X6Qrq",
        "colab_type": "code",
        "colab": {}
      },
      "source": [
        "class T3D(object):\n",
        "\n",
        "  def __init__(self,state_dims,action_dim,max_action):\n",
        "\n",
        "    self.actor=Actor(state_dims,action_dim,max_action).to(device)\n",
        "    self.actor_target=Actor(state_dims,action_dim,max_action).to(device)\n",
        "    self.actor_target.load_state_dict(self.actor.state_dict)\n",
        "\n",
        "    #only actor model will have the optimizer as it gets updated by backprop\n",
        "    self.actor_optimizer=torch.optim.Adam(self.actor.parameters())\n",
        "\n",
        "    self.critic=Critic(state_dims,action_dim).to(device)\n",
        "    self.critic_target=Critic(state_dims,action_dim).to(device)\n",
        "\n",
        "    self.critic_target.load_state_dict(self.critic.state_dict)\n",
        "\n",
        "    self.critic_optimizer=torch.optim.Adam(self.critic.parameters())\n",
        "    self.max_action=max_action\n",
        "  \n",
        "  def select_action(self,state):\n",
        "    state=torch.Tensor(state.reshape(1,-1)).to(device)\n",
        "    return self.actor(state).cpu().data.numpy().flatten()\n",
        "\n",
        "  def train(self,replay_buffer,iterations,batch_size=100,discount=0.99,tau=0.005,policy_noise=0.2,noise_clip=0.5,policy_freq=2):\n",
        "\n",
        "    for it in range(iterations):\n",
        "      batch_states,batch_next_states,batch_actions,batch_rewards,batch_dones=replay_buffer.sample(batch_size)\n",
        "      state=torch.Tensor(batch_states).to(device)\n",
        "      next_state=torch.Tensor(batch_next_states).to(device)\n",
        "      action=torch.Tensor(batch_actions).to(device)\n",
        "      reward=torch.Tensor(batch_rewards).to(device)\n",
        "      done=torch.Tensor(batch_dones).to(device)\n",
        "\n",
        "      next_action=self.action_target.forward(next_state)\n",
        "\n",
        "      noise=torch.Tensor(batch_actions).data.normal_(0,policy_noise).to(device)\n",
        "      noise=noise.clamp(-noise_clip,noise_clip)\n",
        "      next_action=(next_action+noise).clamp(-self.max_action,self.max_action)\n",
        "    \n",
        "      target_Q1,target_Q2=self.critic_target.forward(next_state,next_action)\n",
        "      target_Q=torch.min(target_Q1,target_Q2)\n",
        "\n",
        "      target_Q=reward +((1-done)*discount*target_Q).detach()\n",
        "\n",
        "      current_Q1,current_Q2=self.critic.forward(state,action)\n",
        "      critic_loss=F.mse_loss(current_Q1,target_Q)+F.mse_loss(current_Q2,target_Q)\n",
        "\n",
        "\n",
        "      self.critic_optimizer.zero_grad()\n",
        "      critic_loss.backward()#computing the grads\n",
        "      self.critic_optimizer.step()#weight updation\n",
        "\n",
        "      if it % policy_freq==0:\n",
        "        #This is DPG part\n",
        "\n",
        "        actor_loss=-(self.critic.Q1(state,self.actor(state)).mean())\n",
        "        self.actor_optimizer.grad_zero()\n",
        "        actor_loss.backward()\n",
        "        self.actor_optimizer.step()\n",
        "\n",
        "        for param,target_param in zip(self.actor.parameters(),self.actor_target_parameters()):\n",
        "          target_param.data.copy_(tau*param.data+(1-tau)*target_param.data)\n",
        "\n",
        "\n",
        "        for param,target_param in zip(self.critic.parameters(),self.critic_target_parameters()):\n",
        "          target_param.data.copy_(tau*param.data+(1-tau)*target_param.data)\n"
      ],
      "execution_count": 0,
      "outputs": []
    },
    {
      "cell_type": "code",
      "metadata": {
        "id": "6wZmJOw774oV",
        "colab_type": "code",
        "colab": {}
      },
      "source": [
        ""
      ],
      "execution_count": 0,
      "outputs": []
    },
    {
      "cell_type": "markdown",
      "metadata": {
        "id": "GmENNhh9fmRi",
        "colab_type": "text"
      },
      "source": [
        "![alt text](https://)"
      ]
    }
  ]
}